{
  "nbformat": 4,
  "nbformat_minor": 0,
  "metadata": {
    "colab": {
      "provenance": [],
      "toc_visible": true,
      "authorship_tag": "ABX9TyN1piBrn2eMWa2b0SxwByfL",
      "include_colab_link": true
    },
    "kernelspec": {
      "name": "python3",
      "display_name": "Python 3"
    },
    "language_info": {
      "name": "python"
    }
  },
  "cells": [
    {
      "cell_type": "markdown",
      "metadata": {
        "id": "view-in-github",
        "colab_type": "text"
      },
      "source": [
        "<a href=\"https://colab.research.google.com/github/Ali05R/Tarea-/blob/main/THC_PEREZ_RESENDIZ_ALISON_ODETTE__TAREA3.ipynb\" target=\"_parent\"><img src=\"https://colab.research.google.com/assets/colab-badge.svg\" alt=\"Open In Colab\"/></a>"
      ]
    },
    {
      "cell_type": "markdown",
      "source": [
        "EJERCICIO 1"
      ],
      "metadata": {
        "id": "nkTK1ybed1XD"
      }
    },
    {
      "cell_type": "code",
      "source": [
        "numero1 = float(input(\"Ingrese un número: \"))\n",
        "numero2 = float(input(\"Ingrese un número: \"))\n",
        "suma = numero1 + numero2\n",
        "resta = numero1 - numero2\n",
        "multiplicacion = numero1 * numero2\n",
        "if numero2 !=0:\n",
        "  division = numero1 / numero2\n",
        "else:\n",
        "    division = \"No se puede dividir por cero\"\n",
        "\n",
        "\n",
        "print(f\"Suma: {suma}\")\n",
        "print(f\"Resta: {resta}\")\n",
        "print(f\"Multiplicación: {multiplicacion}\")\n",
        "print(f\"División: {division}\")"
      ],
      "metadata": {
        "id": "P6aO9hJyeHRU"
      },
      "execution_count": null,
      "outputs": []
    },
    {
      "cell_type": "markdown",
      "source": [
        "EJERCICO 2"
      ],
      "metadata": {
        "id": "qfKlq7BMn90A"
      }
    },
    {
      "cell_type": "code",
      "source": [
        "#pedir que ingresen una temperatura en celsius\n",
        "temperatura_celsius = float(input(\"Ingrese la temperatura en grados Celsius: \"))\n",
        "#conversion\n",
        "temperatura_fahrenheit = (temperatura_celsius* 9/5) + 32\n",
        "\n",
        "print(f\"{temperatura_celsius} grados Celsius son equivalentes a {temperatura_fahrenheit} grados Fahrenheit.\")"
      ],
      "metadata": {
        "id": "qx3_YqQsoCVj"
      },
      "execution_count": null,
      "outputs": []
    },
    {
      "cell_type": "markdown",
      "source": [
        "EJERCICIO 4"
      ],
      "metadata": {
        "id": "G6teC6GjqdBd"
      }
    },
    {
      "cell_type": "code",
      "source": [
        "def contador_palabras(texto):\n",
        "  palabras = texto.split()\n",
        "  cantidad_palabras = len(palabras)\n",
        "  return cantidad_palabras\n",
        "texto = input(\"ingresa un texto:\")\n",
        "resultado = contador_palabras(texto)\n",
        "print(f\"la cantidad de palabras es: {resultado}\")"
      ],
      "metadata": {
        "id": "h_Z28mOOqkYn"
      },
      "execution_count": null,
      "outputs": []
    },
    {
      "cell_type": "markdown",
      "source": [
        "EJERCICIO 6"
      ],
      "metadata": {
        "id": "QwcrIcknwWoS"
      }
    },
    {
      "cell_type": "code",
      "source": [
        "def calcular_promedio(numeros_str):\n",
        "  numeros = [float(num) for num in numeros_str.split(\",\")]\n",
        "  suma = sum(numeros)\n",
        "  promedio = suma / len(numeros)\n",
        "  return promedio\n",
        "\n",
        "\n",
        "numeros_str= input(\"ingresa tus calificaciones separadas por comas:\")\n",
        "resultado = calcular_promedio(numeros_str)\n",
        "print(f\"tu promedio de los números es {resultado}\")"
      ],
      "metadata": {
        "id": "pGF5A0LawZJL"
      },
      "execution_count": null,
      "outputs": []
    },
    {
      "cell_type": "markdown",
      "source": [
        "EJERCICIO 10"
      ],
      "metadata": {
        "id": "IRPEtO1i4JtG"
      }
    },
    {
      "cell_type": "code",
      "source": [
        "nombres = []\n",
        "calificaciones = []\n",
        "nombres = []\n",
        "calificaciones = []\n",
        "try:\n",
        "  num_estudiantes = int(input(\"Estudiantes por registrar\"))\n",
        "except ValueError:\n",
        "  print(\"ingresa un numero entero\")\n",
        "for i in range(num_estudiantes):\n",
        "  nombre = input(f\"Nombre de los estudiantes {i + 1}: \")\n",
        "  nombres.append(nombre)\n",
        "  calificacion = float(input(f\"Ingresa la calificación de {nombre}: \"))\n",
        "  calificaciones.append(calificacion)\n",
        "\n",
        "promedio = sum(calificaciones) / num_estudiantes\n",
        "print(f\"El promedio de las calificaciones es: {promedio}\")\n",
        "\n",
        "for i in range(num_estudiantes):\n",
        "  nombre = input(f\"Nombre de los estudiantes {i + 1}: \")\n",
        "  nombres.append(nombre)\n",
        "  calificacion = float(input(f\"Ingresa la calificación de {nombre}: \"))\n",
        "  calificaciones.append(calificacion)\n",
        "  calificacion = float(input(f\"Ingresa la calificación de {nombre}: \"))\n",
        "  calificaciones.append(calificacion)\n",
        "promedio = sum(calificaciones) / num_estudiantes\n",
        "print(f\"El promedio de las calificaciones es: {promedio}\")"
      ],
      "metadata": {
        "id": "o0qVUdg79tOd"
      },
      "execution_count": null,
      "outputs": []
    },
    {
      "cell_type": "markdown",
      "source": [
        "# Nueva sección"
      ],
      "metadata": {
        "id": "mcMIGu0W-k1J"
      }
    },
    {
      "cell_type": "markdown",
      "source": [
        "EJERCICIO 2"
      ],
      "metadata": {
        "id": "0QA8qmmC-mhi"
      }
    },
    {
      "cell_type": "code",
      "source": [
        "def calcular_area_rectangulo(base, altura):\n",
        "  #area del rectangulo\n",
        "  area_rect= base * altura\n",
        "  return area_rect\n",
        "base = float(input(\"base del rectangulo:\"))\n",
        "altura = float(input(\"altura del rectangulo:\"))\n",
        "resultado = calcular_area_rectangulo(base, altura)\n",
        "print(f\"El área del rectangulo es:{resultado}\")"
      ],
      "metadata": {
        "colab": {
          "base_uri": "https://localhost:8080/"
        },
        "id": "Rpgr20aO-z8h",
        "outputId": "806cd55e-54a5-464e-d365-062ce8eab6b9"
      },
      "execution_count": null,
      "outputs": [
        {
          "output_type": "stream",
          "name": "stdout",
          "text": [
            "base del rectangulo:6\n",
            "altura del rectangulo:7\n",
            "El área del rectangulo es:42.0\n"
          ]
        }
      ]
    },
    {
      "cell_type": "markdown",
      "source": [
        "EJERCICIO 3"
      ],
      "metadata": {
        "id": "vrnahBPdCR3d"
      }
    },
    {
      "cell_type": "code",
      "source": [
        "def adivina_el_color():\n",
        "    colores = [\"rojo\", \"azul\", \"rosa\", \"amarillo\", \"naranja\"]\n",
        "    color_elegido = random.choice(colores)\n",
        "    intentos_restantes = 2\n",
        "\n",
        "    print(\"adivina el color\")\n",
        "\n",
        "    while intentos_restantes > 0:\n",
        "        intento = input(\"Ingresa tu intento: \").lower()\n",
        "        if intento == color_elegido:\n",
        "            print(\"Adivinaste el color!.\")\n",
        "            return\n",
        "        else:\n",
        "            print(\"Intento incorrecto :(\")\n",
        "\n",
        "        intentos_restantes -= 1\n",
        "\n",
        "    print(\"te quedaste sin intentos. El color era\", color_elegido)\n",
        "\n",
        "adivina_el_color()\n",
        "\n"
      ],
      "metadata": {
        "colab": {
          "base_uri": "https://localhost:8080/"
        },
        "id": "8XN4wJDaCUmL",
        "outputId": "c216668d-a549-46fe-fbde-a2cc6bf9c813"
      },
      "execution_count": null,
      "outputs": [
        {
          "output_type": "stream",
          "name": "stdout",
          "text": [
            "adivina el color\n",
            "Ingresa tu intento: verde\n",
            "Intento incorrecto :(\n",
            "Ingresa tu intento: azul\n",
            "Adivinaste el color!.\n"
          ]
        }
      ]
    },
    {
      "cell_type": "code",
      "source": [
        "def practicar_mult():\n",
        "    numero1 = random.randint(1, 7)\n",
        "    numero2 = random.randint(1, 8)\n",
        "#random.randint elige numeros aleatorios de un rangos en especifico\n",
        "    respuesta_correcta = numero1 * numero2\n",
        "\n",
        "    respuesta = int(input(f\"¿Cuánto es {numero1} * {numero2}? \"))\n",
        "\n",
        "    if respuesta == respuesta_correcta:\n",
        "        print (\"Correcto!\")\n",
        "    else:\n",
        "        print(f\"Incorrecto. La respuesta correcta es: {respuesta_correcta}\")\n",
        "practicar_mult()"
      ],
      "metadata": {
        "colab": {
          "base_uri": "https://localhost:8080/"
        },
        "id": "3gi8ZeRsOGK5",
        "outputId": "556fedc9-e1b0-41be-ab5f-6b00db3b67e7"
      },
      "execution_count": null,
      "outputs": [
        {
          "output_type": "stream",
          "name": "stdout",
          "text": [
            "Incorrecto. La respuesta correcta es: 12\n"
          ]
        }
      ]
    }
  ]
}